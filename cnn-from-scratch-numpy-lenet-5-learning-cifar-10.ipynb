{
 "cells": [
  {
   "cell_type": "code",
   "execution_count": 1,
   "id": "b386d211",
   "metadata": {
    "_kg_hide-input": true,
    "execution": {
     "iopub.execute_input": "2022-02-16T17:34:26.255580Z",
     "iopub.status.busy": "2022-02-16T17:34:26.253844Z",
     "iopub.status.idle": "2022-02-16T17:34:27.404267Z",
     "shell.execute_reply": "2022-02-16T17:34:27.404722Z",
     "shell.execute_reply.started": "2022-02-16T17:00:52.111982Z"
    },
    "id": "5NG25Q-77cnO",
    "papermill": {
     "duration": 1.168842,
     "end_time": "2022-02-16T17:34:27.405027",
     "exception": false,
     "start_time": "2022-02-16T17:34:26.236185",
     "status": "completed"
    },
    "tags": []
   },
   "outputs": [],
   "source": [
    "from sklearn import preprocessing, metrics\n",
    "from sklearn.utils import shuffle\n",
    "from sklearn.model_selection import train_test_split\n",
    "from copy import deepcopy\n",
    "import numpy as np\n",
    "from numpy import newaxis\n",
    "import struct\n",
    "import matplotlib.pyplot as plt\n",
    "import seaborn as sns\n",
    "import pickle\n",
    "import time\n",
    "import json\n",
    "import codecs\n",
    "# from tqdm.notebook import tqdm\n",
    "from tqdm import tqdm\n",
    "\n",
    "np.random.seed(0)\n",
    "\n",
    "\n",
    "def to_pickle_string(x):\n",
    "    return codecs.encode(pickle.dumps(x), 'base64').decode()\n",
    "\n",
    "\n",
    "def from_pickle_string(x):\n",
    "    return pickle.loads(codecs.decode(x.encode(), \"base64\"))\n",
    "\n",
    "\n",
    "class NumpyJSONEncoder(json.JSONEncoder):\n",
    "\n",
    "    def default(self, obj):\n",
    "        if isinstance(obj, np.ndarray):\n",
    "            return obj.tolist()\n",
    "        return json.JSONEncoder.default(self, obj)\n",
    "\n",
    "\n",
    "def save_numpy(file, x):\n",
    "    with open(file, 'w') as f:\n",
    "        json.dump(x, f, cls=NumpyJSONEncoder)\n",
    "\n",
    "\n",
    "def print_numpy_unscientific(x):\n",
    "    with np.printoptions(suppress=True):\n",
    "        print(x)\n",
    "\n",
    "\n",
    "def show_image(X, y):\n",
    "    print(y)\n",
    "    plt.imshow(X, cmap='gray' if X.shape[2] == 1 else None)\n",
    "\n",
    "\n",
    "def one_hot(y, n_values):\n",
    "    return np.eye(n_values)[y.flatten()]\n",
    "\n",
    "\n",
    "def reverse_one_hot(y):\n",
    "    return np.argmax(y, axis=-1)\n"
   ]
  },
  {
   "cell_type": "markdown",
   "id": "e5d7ae5f",
   "metadata": {
    "id": "df3Msr7h7cnU",
    "papermill": {
     "duration": 0.011716,
     "end_time": "2022-02-16T17:34:27.428744",
     "exception": false,
     "start_time": "2022-02-16T17:34:27.417028",
     "status": "completed"
    },
    "tags": []
   },
   "source": [
    "<h1 id=\"dataset\" style=\"color:white; background:black; border:1px dashed;\"> \n",
    "    <center>Loading dataset\n",
    "        <a class=\"anchor-link\" href=\"#dataset\" target=\"_self\">¶</a>\n",
    "    </center>\n",
    "</h1>"
   ]
  },
  {
   "cell_type": "code",
   "execution_count": 2,
   "id": "0327077e",
   "metadata": {
    "execution": {
     "iopub.execute_input": "2022-02-16T17:34:27.458439Z",
     "iopub.status.busy": "2022-02-16T17:34:27.457675Z",
     "iopub.status.idle": "2022-02-16T17:34:27.460329Z",
     "shell.execute_reply": "2022-02-16T17:34:27.459748Z"
    },
    "id": "SlbfsACE7cnX",
    "papermill": {
     "duration": 0.019706,
     "end_time": "2022-02-16T17:34:27.460459",
     "exception": false,
     "start_time": "2022-02-16T17:34:27.440753",
     "status": "completed"
    },
    "tags": []
   },
   "outputs": [],
   "source": [
    "def check_data(X, y):\n",
    "    assert len(X) == len(y)\n",
    "    rand_idx = np.random.choice(len(y))\n",
    "    show_image(X[rand_idx], y[rand_idx])\n",
    "    sns.countplot(x=reverse_one_hot(y))\n"
   ]
  },
  {
   "cell_type": "markdown",
   "id": "cd6fb32c",
   "metadata": {
    "id": "4Bm-D5Au7cnX",
    "papermill": {
     "duration": 0.01128,
     "end_time": "2022-02-16T17:34:27.483559",
     "exception": false,
     "start_time": "2022-02-16T17:34:27.472279",
     "status": "completed"
    },
    "tags": []
   },
   "source": [
    "### CIFAR-10"
   ]
  },
  {
   "cell_type": "code",
   "execution_count": 3,
   "id": "d7e48750",
   "metadata": {
    "execution": {
     "iopub.execute_input": "2022-02-16T17:34:27.509819Z",
     "iopub.status.busy": "2022-02-16T17:34:27.509264Z",
     "iopub.status.idle": "2022-02-16T17:34:33.051019Z",
     "shell.execute_reply": "2022-02-16T17:34:33.051483Z",
     "shell.execute_reply.started": "2022-02-16T17:00:53.315136Z"
    },
    "id": "81YYAhWf7cnY",
    "outputId": "da3da603-7537-4f3a-b96d-749c83ed3d57",
    "papermill": {
     "duration": 5.556591,
     "end_time": "2022-02-16T17:34:33.051642",
     "exception": false,
     "start_time": "2022-02-16T17:34:27.495051",
     "status": "completed"
    },
    "tags": []
   },
   "outputs": [
    {
     "data": {
      "text/plain": [
       "{'num_cases_per_batch': 10000,\n",
       " 'label_names': ['airplane',\n",
       "  'automobile',\n",
       "  'bird',\n",
       "  'cat',\n",
       "  'deer',\n",
       "  'dog',\n",
       "  'frog',\n",
       "  'horse',\n",
       "  'ship',\n",
       "  'truck'],\n",
       " 'num_vis': 3072}"
      ]
     },
     "execution_count": 3,
     "metadata": {},
     "output_type": "execute_result"
    }
   ],
   "source": [
    "cifar_path = \"/kaggle/input/cifar10-python/cifar-10-batches-py/\"\n",
    "\n",
    "\n",
    "def unpickle(file, encoding='bytes'):\n",
    "    with open(file, 'rb') as fo:\n",
    "        dict = pickle.load(fo, encoding=encoding)\n",
    "    return dict\n",
    "\n",
    "\n",
    "def cifar_read(file):\n",
    "    data = unpickle(cifar_path + file)\n",
    "    return data[b'data'].reshape((10000, 3, 32, 32)).transpose(\n",
    "        (0, 2, 3, 1)) / 255, one_hot(np.array(data[b'labels']), 10)\n",
    "\n",
    "\n",
    "X_train, y_train = (np.concatenate(x) for x in zip(\n",
    "    *[cifar_read(f\"data_batch_{i}\") for i in range(1, 6)]))\n",
    "# check_data(X_train, y_train)\n",
    "\n",
    "X_test, y_test = cifar_read(\"test_batch\")\n",
    "# check_data(X_test, y_test)\n",
    "\n",
    "cifar_classes = unpickle(cifar_path + \"batches.meta\", 'ascii')\n",
    "cifar_classes\n"
   ]
  },
  {
   "cell_type": "markdown",
   "id": "932f94c0",
   "metadata": {
    "id": "WI9Rn1Xg7cna",
    "papermill": {
     "duration": 0.012413,
     "end_time": "2022-02-16T17:34:33.076428",
     "exception": false,
     "start_time": "2022-02-16T17:34:33.064015",
     "status": "completed"
    },
    "tags": []
   },
   "source": [
    "## Splitting test and validation set"
   ]
  },
  {
   "cell_type": "code",
   "execution_count": 4,
   "id": "d143c873",
   "metadata": {
    "execution": {
     "iopub.execute_input": "2022-02-16T17:34:33.108684Z",
     "iopub.status.busy": "2022-02-16T17:34:33.108039Z",
     "iopub.status.idle": "2022-02-16T17:34:33.349583Z",
     "shell.execute_reply": "2022-02-16T17:34:33.350049Z",
     "shell.execute_reply.started": "2022-02-16T17:00:59.843330Z"
    },
    "id": "FtzXpHkp7cnb",
    "outputId": "ca9d6990-de0d-44f7-e9ed-a8f89fbc2758",
    "papermill": {
     "duration": 0.261712,
     "end_time": "2022-02-16T17:34:33.350243",
     "exception": false,
     "start_time": "2022-02-16T17:34:33.088531",
     "status": "completed"
    },
    "tags": []
   },
   "outputs": [
    {
     "name": "stdout",
     "output_type": "stream",
     "text": [
      "[0. 0. 0. 0. 0. 1. 0. 0. 0. 0.]\n"
     ]
    },
    {
     "data": {
      "image/png": "[encoded data removed]",
      "text/plain": [
       "<Figure size 432x288 with 1 Axes>"
      ]
     },
     "metadata": {
      "needs_background": "light"
     },
     "output_type": "display_data"
    }
   ],
   "source": [
    "X_validate, X_test, y_validate, y_test = train_test_split(X_test,\n",
    "                                                          y_test,\n",
    "                                                          test_size=.5,\n",
    "                                                          random_state=1)\n",
    "show_image(X_validate[0], y_validate[0])"
   ]
  },
  {
   "cell_type": "markdown",
   "id": "0e69bd1e",
   "metadata": {
    "id": "yMXiSmn67cnb",
    "papermill": {
     "duration": 0.012811,
     "end_time": "2022-02-16T17:34:33.376227",
     "exception": false,
     "start_time": "2022-02-16T17:34:33.363416",
     "status": "completed"
    },
    "tags": []
   },
   "source": [
    "<h1 id=\"implementation\" style=\"color:white; background:black; border:1px dashed;\"> \n",
    "    <center>Implementation\n",
    "        <a class=\"anchor-link\" href=\"#implementation\" target=\"_self\">¶</a>\n",
    "    </center>\n",
    "</h1>"
   ]
  },
  {
   "cell_type": "code",
   "execution_count": 5,
   "id": "7e08653e",
   "metadata": {
    "execution": {
     "iopub.execute_input": "2022-02-16T17:34:33.422183Z",
     "iopub.status.busy": "2022-02-16T17:34:33.421511Z",
     "iopub.status.idle": "2022-02-16T17:34:33.437212Z",
     "shell.execute_reply": "2022-02-16T17:34:33.436716Z",
     "shell.execute_reply.started": "2022-02-16T17:01:00.113954Z"
    },
    "id": "NURcLXtj7cnc",
    "papermill": {
     "duration": 0.0482,
     "end_time": "2022-02-16T17:34:33.437355",
     "exception": false,
     "start_time": "2022-02-16T17:34:33.389155",
     "status": "completed"
    },
    "tags": []
   },
   "outputs": [],
   "source": [
    "class Layer:\n",
    "    cache_X = None\n",
    "    learn_rate = 0.001\n",
    "\n",
    "    def forward(self, X):\n",
    "        self.cache_X = X.copy()\n",
    "\n",
    "    def backward(self, grad_in):\n",
    "        raise NotImplementedError\n",
    "\n",
    "\n",
    "def generate_regions(X, dim, stride):\n",
    "    assert X.shape[1] >= dim\n",
    "    assert X.shape[2] >= dim\n",
    "    # X is of shape (batch_size, height, width, in_nchannel)\n",
    "    for fh, h in enumerate(range(0, X.shape[1] - dim + 1, stride)):\n",
    "        for fw, w in enumerate(range(0, X.shape[2] - dim + 1, stride)):\n",
    "            yield fh, fw, np.s_[:, h:h + dim, w:w + dim, :]\n",
    "\n",
    "\n",
    "class Conv2D(Layer):\n",
    "    W = None\n",
    "    b = None\n",
    "    out_nchannel = 0\n",
    "    dim = 0\n",
    "    stride = 0\n",
    "    pad = 0\n",
    "\n",
    "    def __init__(self, out_nchannel, dim, stride, pad):\n",
    "        self.out_nchannel = out_nchannel\n",
    "        self.dim = dim\n",
    "        self.stride = stride\n",
    "        self.pad = pad\n",
    "        self.b = np.zeros(self.out_nchannel)\n",
    "\n",
    "    def forward(self, X):\n",
    "        # X is of shape (batch_size, height, width, in_nchannel)\n",
    "        super().forward(X)\n",
    "        out_nchannel, dim, stride, pad = self.out_nchannel, self.dim, self.stride, self.pad\n",
    "        if self.W is None:\n",
    "            self.W = np.random.randn(\n",
    "                dim, dim, X.shape[-1], out_nchannel) * np.sqrt(\n",
    "                    2 / (X.shape[1] * X.shape[2] * X.shape[3]))\n",
    "        W, b = self.W, self.b\n",
    "\n",
    "        X = np.pad(X, ((0, ), (pad, ), (pad, ), (0, )))\n",
    "        WX = np.zeros((len(X), (X.shape[1] - W.shape[0]) // stride + 1,\n",
    "                       (X.shape[2] - W.shape[1]) // stride + 1, out_nchannel))\n",
    "\n",
    "        for fh, fw, slice in generate_regions(X, dim, stride):\n",
    "            WX[:, fh, fw, :] = np.tensordot(X[slice], W, axes=3)\n",
    "        return WX + b\n",
    "\n",
    "    def backward(self, grad_in):\n",
    "        X = self.cache_X\n",
    "        dX = np.zeros_like(X, dtype=float)\n",
    "        dW = np.zeros_like(self.W)\n",
    "        db = np.zeros_like(self.b)\n",
    "        dim, stride, pad = self.dim, self.stride, self.pad\n",
    "        X = np.pad(X, ((0, ), (pad, ), (pad, ), (0, )))\n",
    "        dX_pad = np.zeros_like(X, dtype=float)\n",
    "\n",
    "        for fh, fw, slice in generate_regions(X, dim, stride):\n",
    "            grad_in_slice = grad_in[:, fh, fw, newaxis, newaxis, newaxis, :]\n",
    "            dX_pad[slice] += np.sum(self.W * grad_in_slice, axis=-1)\n",
    "            dW += np.sum(X[slice][..., newaxis] * grad_in_slice, axis=0)\n",
    "            db += np.sum(grad_in_slice, axis=0).squeeze()\n",
    "        dX = dX_pad[:, pad:-pad, pad:-pad, :] if pad > 0 else dX_pad\n",
    "        # assert dW.shape == self.W.shape, dW.shape\n",
    "        # assert db.shape == self.b.shape, db.shape\n",
    "        self.W -= dW * self.learn_rate\n",
    "        self.b -= db * self.learn_rate\n",
    "        # print('dW mean=', np.mean(dW), '\\ndb mean=', np.mean(db))\n",
    "        return dX\n",
    "\n",
    "\n",
    "class ReLU(Layer):\n",
    "\n",
    "    def forward(self, X):\n",
    "        super().forward(X)\n",
    "        return np.maximum(X, 0)\n",
    "\n",
    "    def backward(self, grad_in):\n",
    "        dX = grad_in.copy()\n",
    "        dX[self.cache_X <= 0] = 0\n",
    "        return dX\n",
    "\n",
    "\n",
    "class MaxPool2D(Layer):\n",
    "    dim = 0\n",
    "    stride = 0\n",
    "\n",
    "    def __init__(self, dim, stride):\n",
    "        self.dim = dim\n",
    "        self.stride = stride\n",
    "\n",
    "    def forward(self, X):\n",
    "        # X is of shape (batch_size, height, width, in_nchannel)\n",
    "        super().forward(X)\n",
    "        dim, stride = self.dim, self.stride\n",
    "        out_shape = ((X.shape[1] - dim) // stride + 1,\n",
    "                     (X.shape[2] - dim) // stride + 1, X.shape[3])\n",
    "        y = np.zeros((len(X), ) + out_shape)\n",
    "        for fh, fw, slice in generate_regions(X, dim, stride):\n",
    "            y[:, fh, fw, :] = np.max(X[slice], axis=(1, 2))\n",
    "        return y\n",
    "\n",
    "    def backward(self, grad_in):\n",
    "        X = self.cache_X\n",
    "        dim, stride = self.dim, self.stride\n",
    "        dX = np.zeros_like(X, dtype=float)\n",
    "        for fh, fw, slice in generate_regions(X, dim, stride):\n",
    "            ## In case of multiple maximum, I first tried propagating to every max, which resulted in exploding / vanishing gradient in CIFAR-10\n",
    "            ## This problem took me 2 days to debug :)\n",
    "            xs = X[slice]\n",
    "            indices = np.indices((xs.shape[0], xs.shape[-1]))\n",
    "            max_indices = (indices[0], ) + np.unravel_index(\n",
    "                xs.reshape((xs.shape[0], -1, xs.shape[-1])).argmax(axis=1),\n",
    "                xs.shape[1:-1]) + (indices[1], )\n",
    "            mask = np.zeros_like(xs)\n",
    "            mask[max_indices] = 1\n",
    "            dX[slice] += mask * grad_in[:, fh, newaxis, fw, newaxis, :]\n",
    "        return dX\n",
    "\n",
    "\n",
    "class Flatten(Layer):\n",
    "\n",
    "    def forward(self, X):\n",
    "        # X is of shape (batch_size, height, width, in_nchannel)\n",
    "        # output is of shape (batch_size, -1)\n",
    "        super().forward(X)\n",
    "        return X.reshape((len(X), -1))\n",
    "\n",
    "    def backward(self, grad_in):\n",
    "        return grad_in.reshape(self.cache_X.shape)\n",
    "\n",
    "\n",
    "class Dense(Layer):\n",
    "    W = None\n",
    "    b = None\n",
    "    out_dim = 0\n",
    "\n",
    "    def __init__(self, out_dim):\n",
    "        self.out_dim = out_dim\n",
    "        self.b = np.zeros(out_dim)\n",
    "\n",
    "    def forward(self, X):\n",
    "        # X is of shape (batch_size, in_dim)\n",
    "        # output is of shape (batch_size, out_dim)\n",
    "        super().forward(X)\n",
    "        in_dim = X.shape[-1]\n",
    "        if self.W is None:\n",
    "            self.W = np.random.randn(in_dim, self.out_dim) * np.sqrt(\n",
    "                2 / in_dim)\n",
    "        return X @ self.W + self.b\n",
    "\n",
    "    def backward(self, grad_in):\n",
    "        X = self.cache_X\n",
    "        dX = grad_in @ self.W.T\n",
    "        dW = X.T @ grad_in\n",
    "        db = np.sum(grad_in, axis=0)\n",
    "        # assert dW.shape == self.W.shape, dW.shape\n",
    "        # assert db.shape == self.b.shape, db.shape\n",
    "        self.W -= dW * self.learn_rate\n",
    "        self.b -= db * self.learn_rate\n",
    "        # print('dW mean=', np.mean(dW), '\\ndb mean=', np.mean(db))\n",
    "        return dX\n",
    "\n",
    "\n",
    "def softmax(X, axis=-1, epsilon=1e-9):\n",
    "    # actual softmax function is np.exp(X)/np.exp(X).sum(), here same value is calculated in a different way\n",
    "    # -np.max(X) is used to avoid dividing large numbers which is numerically unstable: https://cs231n.github.io/linear-classify/#softmax\n",
    "    e_x = np.exp(X - np.max(X, axis=axis, keepdims=True))\n",
    "    probs = e_x / e_x.sum(axis=axis, keepdims=True)\n",
    "    # return preprocessing.normalize(probs + epsilon, norm='l1')\n",
    "    return probs\n",
    "\n",
    "\n",
    "class SoftmaxCrossEntropy(Layer):\n",
    "    cache_grad = None\n",
    "\n",
    "    def forward(self, X, y):\n",
    "        # X, y and y_hat are of shape (batch_size, in_dim)\n",
    "        super().forward(X)\n",
    "        m = len(X)\n",
    "        y_hat = softmax(X)\n",
    "        loss = (-1 / m) * np.log(y_hat[y == 1]).sum()\n",
    "        self.cache_grad = (y_hat - y) / m\n",
    "        return y_hat, loss\n",
    "\n",
    "    def backward(self, grad_in):\n",
    "        return self.cache_grad\n"
   ]
  },
  {
   "cell_type": "code",
   "execution_count": 6,
   "id": "814e30b4",
   "metadata": {
    "execution": {
     "iopub.execute_input": "2022-02-16T17:34:33.484220Z",
     "iopub.status.busy": "2022-02-16T17:34:33.483214Z",
     "iopub.status.idle": "2022-02-16T17:34:33.485764Z",
     "shell.execute_reply": "2022-02-16T17:34:33.485300Z",
     "shell.execute_reply.started": "2022-02-16T17:31:19.440004Z"
    },
    "id": "cyQ359cl7cni",
    "papermill": {
     "duration": 0.03497,
     "end_time": "2022-02-16T17:34:33.485895",
     "exception": false,
     "start_time": "2022-02-16T17:34:33.450925",
     "status": "completed"
    },
    "tags": []
   },
   "outputs": [],
   "source": [
    "class Model:\n",
    "    layers = []\n",
    "    learn_rate = 0\n",
    "\n",
    "    def __init__(self, layers, learn_rate=0.001):\n",
    "        for layer in layers:\n",
    "            layer.learn_rate = learn_rate\n",
    "        self.layers = layers\n",
    "        self.learn_rate = learn_rate\n",
    "\n",
    "    def forward(self, X, y=None):\n",
    "        m = len(X)\n",
    "        for layer in self.layers[:-1]:\n",
    "            X = layer.forward(X)\n",
    "        if y is None:\n",
    "            return softmax(X)\n",
    "        assert len(y) == m\n",
    "        y_hat, loss = self.layers[-1].forward(X, y)\n",
    "        return y_hat, loss\n",
    "\n",
    "    def backward(self):\n",
    "        grad = 1\n",
    "        for layer in reversed(self.layers):\n",
    "            grad = layer.backward(grad)\n",
    "        return grad\n",
    "\n",
    "    def fit(self,\n",
    "            X_train,\n",
    "            y_train,\n",
    "            X_validate,\n",
    "            y_validate,\n",
    "            epochs=1,\n",
    "            batch_size=32):\n",
    "        n_sample = len(X_train)\n",
    "        n_batch = (n_sample - 1) // batch_size + 1\n",
    "        y_pred = np.zeros_like(y_train)\n",
    "        for epoch in range(epochs):\n",
    "            print(f\"Epoch {epoch+1} ================\")\n",
    "            with tqdm(total=n_batch) as t:\n",
    "                tot_loss = tot_acc = 0\n",
    "                for i in range(n_batch):\n",
    "                    batch = range(batch_size * i,\n",
    "                                  min(batch_size * (i + 1), n_sample))\n",
    "\n",
    "                    y_hat, loss = self.forward(X_train[batch], y_train[batch])\n",
    "                    acc = (1 / len(batch)) * np.sum(\n",
    "                        reverse_one_hot(y_hat) == reverse_one_hot(\n",
    "                            y_train[batch]))\n",
    "                    y_pred[batch] = y_hat\n",
    "\n",
    "                    grad = self.backward()\n",
    "\n",
    "                    tot_loss += loss\n",
    "                    tot_acc += acc\n",
    "                    if (i + 1) % 32 == 0 or i + 1 == n_batch:\n",
    "                        t.set_postfix({\n",
    "                            'avg_loss': tot_loss / (i + 1),\n",
    "                            'avg_accuracy': tot_acc / (i + 1),\n",
    "                            'max_abs_gradient': np.max(abs(grad))\n",
    "                        })\n",
    "                        cur_n_batch = i % 32 + 1\n",
    "                        t.update(cur_n_batch)\n",
    "            print(\"Validation:\")\n",
    "            val_y_hat, val_loss = self.evaluate(X_validate, y_validate)\n",
    "            print('loss: ', val_loss)\n",
    "            print(\n",
    "                metrics.classification_report(reverse_one_hot(val_y_hat),\n",
    "                                              reverse_one_hot(y_validate)))\n",
    "\n",
    "    def predict(self, X, batch_size=32):\n",
    "        y_pred = []\n",
    "        n_sample = len(X)\n",
    "        n_batch = (n_sample - 1) // batch_size + 1\n",
    "        for i in tqdm(range(n_batch)):\n",
    "            batch = range(batch_size * i, min(batch_size * (i + 1), n_sample))\n",
    "            y_hat = self.forward(X[batch])\n",
    "            y_pred.append(y_hat)\n",
    "        return np.concatenate(y_pred)\n",
    "\n",
    "    def evaluate(self, X, y, batch_size=32):\n",
    "        y_pred = []\n",
    "        n_sample = len(X)\n",
    "        n_batch = (n_sample - 1) // batch_size + 1\n",
    "        tot_loss = 0\n",
    "        for i in tqdm(range(n_batch)):\n",
    "            batch = range(batch_size * i, min(batch_size * (i + 1), n_sample))\n",
    "            y_hat, loss = self.forward(X[batch], y[batch])\n",
    "            y_pred.append(y_hat)\n",
    "            tot_loss += loss\n",
    "        return np.concatenate(y_pred), tot_loss / n_batch\n",
    "\n",
    "    def get_weights(self):\n",
    "        weights = []\n",
    "        for layer in self.layers:\n",
    "            if hasattr(layer, 'W'):\n",
    "                weights.append(layer.W)\n",
    "            if hasattr(layer, 'b'):\n",
    "                weights.append(layer.b)\n",
    "        return weights\n",
    "\n",
    "    def set_weights(self, weights):\n",
    "        # careful of not copying by reference\n",
    "        weight_iter = iter(weights)\n",
    "        for layer in self.layers:\n",
    "            if hasattr(layer, 'W'):\n",
    "                layer.W = np.array(next(weight_iter))\n",
    "            if hasattr(layer, 'b'):\n",
    "                layer.b = np.array(next(weight_iter))\n"
   ]
  },
  {
   "cell_type": "markdown",
   "id": "eb25cb63",
   "metadata": {
    "id": "Wyt9vqSI7cnj",
    "papermill": {
     "duration": 0.012812,
     "end_time": "2022-02-16T17:34:33.511753",
     "exception": false,
     "start_time": "2022-02-16T17:34:33.498941",
     "status": "completed"
    },
    "tags": []
   },
   "source": [
    "<h1 id=\"model\" style=\"color:white; background:black; border:1px dashed;\"> \n",
    "    <center>Create model\n",
    "        <a class=\"anchor-link\" href=\"#model\" target=\"_self\">¶</a>\n",
    "    </center>\n",
    "</h1>"
   ]
  },
  {
   "cell_type": "markdown",
   "id": "9f3da14c",
   "metadata": {
    "papermill": {
     "duration": 0.012576,
     "end_time": "2022-02-16T17:34:33.537377",
     "exception": false,
     "start_time": "2022-02-16T17:34:33.524801",
     "status": "completed"
    },
    "tags": []
   },
   "source": [
    "#### Lenet-5"
   ]
  },
  {
   "cell_type": "code",
   "execution_count": 7,
   "id": "51346f1a",
   "metadata": {
    "execution": {
     "iopub.execute_input": "2022-02-16T17:34:33.567123Z",
     "iopub.status.busy": "2022-02-16T17:34:33.566286Z",
     "iopub.status.idle": "2022-02-16T17:34:33.571154Z",
     "shell.execute_reply": "2022-02-16T17:34:33.571710Z",
     "shell.execute_reply.started": "2022-02-16T17:31:21.064939Z"
    },
    "id": "Xoul5Oeu7cnj",
    "papermill": {
     "duration": 0.021459,
     "end_time": "2022-02-16T17:34:33.571862",
     "exception": false,
     "start_time": "2022-02-16T17:34:33.550403",
     "status": "completed"
    },
    "tags": []
   },
   "outputs": [],
   "source": [
    "np.random.seed(0)   ## to get deterministic weights\n",
    "\n",
    "model = Model([\n",
    "    Conv2D(6, 5, 1, 0),\n",
    "    ReLU(),\n",
    "    MaxPool2D(2, 2),\n",
    "    Conv2D(16, 5, 1, 0),\n",
    "    ReLU(),\n",
    "    MaxPool2D(2, 2),\n",
    "    Flatten(),\n",
    "    Dense(120),\n",
    "    Dense(84),\n",
    "    Dense(10),\n",
    "    SoftmaxCrossEntropy()\n",
    "],\n",
    "              learn_rate=0.02)\n",
    "\n",
    "# model.predict(X_train[0:1]) ## to initialize the weights\n",
    "# model.get_weights()[0][0][0][0]\n"
   ]
  },
  {
   "cell_type": "markdown",
   "id": "0afc9d67",
   "metadata": {
    "id": "fABqzccJ7cnj",
    "papermill": {
     "duration": 0.012469,
     "end_time": "2022-02-16T17:34:33.597082",
     "exception": false,
     "start_time": "2022-02-16T17:34:33.584613",
     "status": "completed"
    },
    "tags": []
   },
   "source": [
    "<h1 id=\"training\" style=\"color:white; background:black; border:1px dashed;\"> \n",
    "    <center>Training\n",
    "        <a class=\"anchor-link\" href=\"#training\" target=\"_self\">¶</a>\n",
    "    </center>\n",
    "</h1>"
   ]
  },
  {
   "cell_type": "code",
   "execution_count": 8,
   "id": "740c1a7f",
   "metadata": {
    "execution": {
     "iopub.execute_input": "2022-02-16T17:34:33.626074Z",
     "iopub.status.busy": "2022-02-16T17:34:33.625216Z",
     "iopub.status.idle": "2022-02-16T18:52:55.822071Z",
     "shell.execute_reply": "2022-02-16T18:52:55.822869Z"
    },
    "id": "25A_Hig27cnk",
    "outputId": "3057ba6b-62d4-4ef2-caa9-7c5b41d257a1",
    "papermill": {
     "duration": 4702.213329,
     "end_time": "2022-02-16T18:52:55.823096",
     "exception": false,
     "start_time": "2022-02-16T17:34:33.609767",
     "status": "completed"
    },
    "tags": []
   },
   "outputs": [
    {
     "name": "stdout",
     "output_type": "stream",
     "text": [
      "Epoch 1 ================\n"
     ]
    },
    {
     "name": "stderr",
     "output_type": "stream",
     "text": [
      "100%|██████████| 1563/1563 [07:36<00:00,  3.42it/s, avg_loss=1.94, avg_accuracy=0.288, max_abs_gradient=0.0165]\n"
     ]
    },
    {
     "name": "stdout",
     "output_type": "stream",
     "text": [
      "Validation:\n"
     ]
    },
    {
     "name": "stderr",
     "output_type": "stream",
     "text": [
      "100%|██████████| 157/157 [00:10<00:00, 15.01it/s]\n"
     ]
    },
    {
     "name": "stdout",
     "output_type": "stream",
     "text": [
      "loss:  1.6212253449338534\n",
      "              precision    recall  f1-score   support\n",
      "\n",
      "           0       0.41      0.56      0.47       345\n",
      "           1       0.75      0.43      0.55       885\n",
      "           2       0.15      0.36      0.21       206\n",
      "           3       0.25      0.29      0.27       436\n",
      "           4       0.42      0.32      0.36       624\n",
      "           5       0.18      0.56      0.27       162\n",
      "           6       0.57      0.38      0.46       737\n",
      "           7       0.54      0.34      0.42       819\n",
      "           8       0.45      0.61      0.51       370\n",
      "           9       0.37      0.45      0.41       416\n",
      "\n",
      "    accuracy                           0.41      5000\n",
      "   macro avg       0.41      0.43      0.39      5000\n",
      "weighted avg       0.48      0.41      0.42      5000\n",
      "\n",
      "Epoch 2 ================\n"
     ]
    },
    {
     "name": "stderr",
     "output_type": "stream",
     "text": [
      "100%|██████████| 1563/1563 [07:37<00:00,  3.41it/s, avg_loss=1.57, avg_accuracy=0.436, max_abs_gradient=0.0215]\n"
     ]
    },
    {
     "name": "stdout",
     "output_type": "stream",
     "text": [
      "Validation:\n"
     ]
    },
    {
     "name": "stderr",
     "output_type": "stream",
     "text": [
      "100%|██████████| 157/157 [00:11<00:00, 14.10it/s]\n"
     ]
    },
    {
     "name": "stdout",
     "output_type": "stream",
     "text": [
      "loss:  1.4850256238756507\n",
      "              precision    recall  f1-score   support\n",
      "\n",
      "           0       0.47      0.53      0.50       421\n",
      "           1       0.77      0.47      0.58       832\n",
      "           2       0.25      0.41      0.31       314\n",
      "           3       0.25      0.32      0.28       396\n",
      "           4       0.41      0.42      0.42       464\n",
      "           5       0.30      0.53      0.39       294\n",
      "           6       0.53      0.49      0.51       532\n",
      "           7       0.58      0.45      0.51       662\n",
      "           8       0.65      0.58      0.62       556\n",
      "           9       0.48      0.46      0.47       529\n",
      "\n",
      "    accuracy                           0.47      5000\n",
      "   macro avg       0.47      0.47      0.46      5000\n",
      "weighted avg       0.51      0.47      0.48      5000\n",
      "\n",
      "Epoch 3 ================\n"
     ]
    },
    {
     "name": "stderr",
     "output_type": "stream",
     "text": [
      "100%|██████████| 1563/1563 [07:53<00:00,  3.30it/s, avg_loss=1.45, avg_accuracy=0.48, max_abs_gradient=0.0237]\n"
     ]
    },
    {
     "name": "stdout",
     "output_type": "stream",
     "text": [
      "Validation:\n"
     ]
    },
    {
     "name": "stderr",
     "output_type": "stream",
     "text": [
      "100%|██████████| 157/157 [00:11<00:00, 13.65it/s]\n"
     ]
    },
    {
     "name": "stdout",
     "output_type": "stream",
     "text": [
      "loss:  1.404963788577043\n",
      "              precision    recall  f1-score   support\n",
      "\n",
      "           0       0.52      0.54      0.53       463\n",
      "           1       0.74      0.52      0.61       723\n",
      "           2       0.29      0.44      0.35       344\n",
      "           3       0.32      0.36      0.34       449\n",
      "           4       0.49      0.45      0.47       515\n",
      "           5       0.30      0.50      0.38       304\n",
      "           6       0.55      0.54      0.54       507\n",
      "           7       0.60      0.49      0.54       636\n",
      "           8       0.65      0.59      0.62       549\n",
      "           9       0.53      0.52      0.53       510\n",
      "\n",
      "    accuracy                           0.50      5000\n",
      "   macro avg       0.50      0.49      0.49      5000\n",
      "weighted avg       0.53      0.50      0.51      5000\n",
      "\n",
      "Epoch 4 ================\n"
     ]
    },
    {
     "name": "stderr",
     "output_type": "stream",
     "text": [
      "100%|██████████| 1563/1563 [07:46<00:00,  3.35it/s, avg_loss=1.39, avg_accuracy=0.503, max_abs_gradient=0.0302]\n"
     ]
    },
    {
     "name": "stdout",
     "output_type": "stream",
     "text": [
      "Validation:\n"
     ]
    },
    {
     "name": "stderr",
     "output_type": "stream",
     "text": [
      "100%|██████████| 157/157 [00:11<00:00, 14.21it/s]\n"
     ]
    },
    {
     "name": "stdout",
     "output_type": "stream",
     "text": [
      "loss:  1.3724662843250874\n",
      "              precision    recall  f1-score   support\n",
      "\n",
      "           0       0.54      0.54      0.54       478\n",
      "           1       0.73      0.55      0.63       681\n",
      "           2       0.33      0.45      0.38       374\n",
      "           3       0.38      0.36      0.37       540\n",
      "           4       0.51      0.46      0.48       521\n",
      "           5       0.31      0.49      0.38       318\n",
      "           6       0.46      0.62      0.53       372\n",
      "           7       0.62      0.52      0.56       613\n",
      "           8       0.73      0.55      0.63       662\n",
      "           9       0.50      0.57      0.53       441\n",
      "\n",
      "    accuracy                           0.51      5000\n",
      "   macro avg       0.51      0.51      0.50      5000\n",
      "weighted avg       0.54      0.51      0.52      5000\n",
      "\n",
      "Epoch 5 ================\n"
     ]
    },
    {
     "name": "stderr",
     "output_type": "stream",
     "text": [
      "100%|██████████| 1563/1563 [07:37<00:00,  3.41it/s, avg_loss=1.35, avg_accuracy=0.52, max_abs_gradient=0.0375]\n"
     ]
    },
    {
     "name": "stdout",
     "output_type": "stream",
     "text": [
      "Validation:\n"
     ]
    },
    {
     "name": "stderr",
     "output_type": "stream",
     "text": [
      "100%|██████████| 157/157 [00:11<00:00, 14.13it/s]\n"
     ]
    },
    {
     "name": "stdout",
     "output_type": "stream",
     "text": [
      "loss:  1.3315155277739816\n",
      "              precision    recall  f1-score   support\n",
      "\n",
      "           0       0.54      0.57      0.56       447\n",
      "           1       0.72      0.57      0.64       650\n",
      "           2       0.30      0.48      0.37       321\n",
      "           3       0.40      0.37      0.38       553\n",
      "           4       0.51      0.46      0.48       522\n",
      "           5       0.34      0.49      0.40       355\n",
      "           6       0.51      0.59      0.55       425\n",
      "           7       0.66      0.51      0.57       674\n",
      "           8       0.71      0.61      0.65       581\n",
      "           9       0.55      0.59      0.57       472\n",
      "\n",
      "    accuracy                           0.52      5000\n",
      "   macro avg       0.52      0.52      0.52      5000\n",
      "weighted avg       0.55      0.52      0.53      5000\n",
      "\n",
      "Epoch 6 ================\n"
     ]
    },
    {
     "name": "stderr",
     "output_type": "stream",
     "text": [
      "100%|██████████| 1563/1563 [07:36<00:00,  3.43it/s, avg_loss=1.32, avg_accuracy=0.53, max_abs_gradient=0.0409]\n"
     ]
    },
    {
     "name": "stdout",
     "output_type": "stream",
     "text": [
      "Validation:\n"
     ]
    },
    {
     "name": "stderr",
     "output_type": "stream",
     "text": [
      "100%|██████████| 157/157 [00:10<00:00, 14.78it/s]\n"
     ]
    },
    {
     "name": "stdout",
     "output_type": "stream",
     "text": [
      "loss:  1.3163526905630416\n",
      "              precision    recall  f1-score   support\n",
      "\n",
      "           0       0.54      0.59      0.56       431\n",
      "           1       0.74      0.57      0.65       660\n",
      "           2       0.32      0.49      0.39       337\n",
      "           3       0.38      0.37      0.38       519\n",
      "           4       0.50      0.46      0.48       514\n",
      "           5       0.33      0.49      0.39       340\n",
      "           6       0.54      0.61      0.57       438\n",
      "           7       0.67      0.51      0.58       678\n",
      "           8       0.74      0.59      0.65       629\n",
      "           9       0.53      0.60      0.56       454\n",
      "\n",
      "    accuracy                           0.53      5000\n",
      "   macro avg       0.53      0.53      0.52      5000\n",
      "weighted avg       0.56      0.53      0.54      5000\n",
      "\n",
      "Epoch 7 ================\n"
     ]
    },
    {
     "name": "stderr",
     "output_type": "stream",
     "text": [
      "100%|██████████| 1563/1563 [07:36<00:00,  3.42it/s, avg_loss=1.3, avg_accuracy=0.538, max_abs_gradient=0.0427]\n"
     ]
    },
    {
     "name": "stdout",
     "output_type": "stream",
     "text": [
      "Validation:\n"
     ]
    },
    {
     "name": "stderr",
     "output_type": "stream",
     "text": [
      "100%|██████████| 157/157 [00:10<00:00, 14.91it/s]\n"
     ]
    },
    {
     "name": "stdout",
     "output_type": "stream",
     "text": [
      "loss:  1.3035658692860705\n",
      "              precision    recall  f1-score   support\n",
      "\n",
      "           0       0.54      0.61      0.57       422\n",
      "           1       0.74      0.58      0.65       655\n",
      "           2       0.34      0.48      0.40       366\n",
      "           3       0.36      0.38      0.37       483\n",
      "           4       0.51      0.46      0.48       524\n",
      "           5       0.31      0.53      0.39       298\n",
      "           6       0.57      0.60      0.58       474\n",
      "           7       0.69      0.51      0.59       696\n",
      "           8       0.74      0.60      0.66       612\n",
      "           9       0.56      0.61      0.58       470\n",
      "\n",
      "    accuracy                           0.54      5000\n",
      "   macro avg       0.54      0.54      0.53      5000\n",
      "weighted avg       0.57      0.54      0.55      5000\n",
      "\n",
      "Epoch 8 ================\n"
     ]
    },
    {
     "name": "stderr",
     "output_type": "stream",
     "text": [
      "100%|██████████| 1563/1563 [07:35<00:00,  3.43it/s, avg_loss=1.29, avg_accuracy=0.544, max_abs_gradient=0.0467]\n"
     ]
    },
    {
     "name": "stdout",
     "output_type": "stream",
     "text": [
      "Validation:\n"
     ]
    },
    {
     "name": "stderr",
     "output_type": "stream",
     "text": [
      "100%|██████████| 157/157 [00:11<00:00, 14.08it/s]\n"
     ]
    },
    {
     "name": "stdout",
     "output_type": "stream",
     "text": [
      "loss:  1.2959743071104413\n",
      "              precision    recall  f1-score   support\n",
      "\n",
      "           0       0.55      0.62      0.58       418\n",
      "           1       0.73      0.59      0.66       627\n",
      "           2       0.35      0.48      0.41       370\n",
      "           3       0.38      0.38      0.38       514\n",
      "           4       0.50      0.47      0.49       503\n",
      "           5       0.33      0.52      0.41       328\n",
      "           6       0.54      0.60      0.57       446\n",
      "           7       0.70      0.52      0.60       689\n",
      "           8       0.76      0.60      0.67       631\n",
      "           9       0.56      0.60      0.58       474\n",
      "\n",
      "    accuracy                           0.54      5000\n",
      "   macro avg       0.54      0.54      0.53      5000\n",
      "weighted avg       0.57      0.54      0.55      5000\n",
      "\n",
      "Epoch 9 ================\n"
     ]
    },
    {
     "name": "stderr",
     "output_type": "stream",
     "text": [
      "100%|██████████| 1563/1563 [07:36<00:00,  3.43it/s, avg_loss=1.28, avg_accuracy=0.55, max_abs_gradient=0.0457]\n"
     ]
    },
    {
     "name": "stdout",
     "output_type": "stream",
     "text": [
      "Validation:\n"
     ]
    },
    {
     "name": "stderr",
     "output_type": "stream",
     "text": [
      "100%|██████████| 157/157 [00:10<00:00, 14.73it/s]\n"
     ]
    },
    {
     "name": "stdout",
     "output_type": "stream",
     "text": [
      "loss:  1.2934805732096712\n",
      "              precision    recall  f1-score   support\n",
      "\n",
      "           0       0.55      0.59      0.57       441\n",
      "           1       0.73      0.59      0.65       628\n",
      "           2       0.38      0.50      0.43       383\n",
      "           3       0.39      0.36      0.38       540\n",
      "           4       0.49      0.49      0.49       464\n",
      "           5       0.36      0.53      0.42       346\n",
      "           6       0.53      0.63      0.58       416\n",
      "           7       0.69      0.54      0.61       660\n",
      "           8       0.76      0.59      0.66       649\n",
      "           9       0.56      0.60      0.58       473\n",
      "\n",
      "    accuracy                           0.54      5000\n",
      "   macro avg       0.54      0.54      0.54      5000\n",
      "weighted avg       0.57      0.54      0.55      5000\n",
      "\n",
      "Epoch 10 ================\n"
     ]
    },
    {
     "name": "stderr",
     "output_type": "stream",
     "text": [
      "100%|██████████| 1563/1563 [07:36<00:00,  3.42it/s, avg_loss=1.27, avg_accuracy=0.555, max_abs_gradient=0.048]\n"
     ]
    },
    {
     "name": "stdout",
     "output_type": "stream",
     "text": [
      "Validation:\n"
     ]
    },
    {
     "name": "stderr",
     "output_type": "stream",
     "text": [
      "100%|██████████| 157/157 [00:10<00:00, 14.39it/s]\n"
     ]
    },
    {
     "name": "stdout",
     "output_type": "stream",
     "text": [
      "loss:  1.2946060860075652\n",
      "              precision    recall  f1-score   support\n",
      "\n",
      "           0       0.55      0.59      0.57       439\n",
      "           1       0.74      0.57      0.64       664\n",
      "           2       0.37      0.49      0.42       386\n",
      "           3       0.38      0.37      0.37       521\n",
      "           4       0.47      0.52      0.49       431\n",
      "           5       0.36      0.53      0.43       350\n",
      "           6       0.56      0.64      0.60       432\n",
      "           7       0.69      0.55      0.61       650\n",
      "           8       0.76      0.58      0.66       653\n",
      "           9       0.54      0.58      0.56       474\n",
      "\n",
      "    accuracy                           0.54      5000\n",
      "   macro avg       0.54      0.54      0.54      5000\n",
      "weighted avg       0.57      0.54      0.55      5000\n",
      "\n"
     ]
    }
   ],
   "source": [
    "model.fit(X_train, y_train, X_validate, y_validate, epochs=10)"
   ]
  },
  {
   "cell_type": "markdown",
   "id": "9ebb4481",
   "metadata": {
    "id": "dAIlXZFk7cnl",
    "papermill": {
     "duration": 0.49669,
     "end_time": "2022-02-16T18:52:56.825764",
     "exception": false,
     "start_time": "2022-02-16T18:52:56.329074",
     "status": "completed"
    },
    "tags": []
   },
   "source": [
    "### Saving trained weights"
   ]
  },
  {
   "cell_type": "code",
   "execution_count": 9,
   "id": "fe21d759",
   "metadata": {
    "execution": {
     "iopub.execute_input": "2022-02-16T18:52:57.690005Z",
     "iopub.status.busy": "2022-02-16T18:52:57.689389Z",
     "iopub.status.idle": "2022-02-16T18:52:57.692100Z",
     "shell.execute_reply": "2022-02-16T18:52:57.691645Z"
    },
    "id": "ORuFsFfz7cnl",
    "papermill": {
     "duration": 0.43818,
     "end_time": "2022-02-16T18:52:57.692285",
     "exception": false,
     "start_time": "2022-02-16T18:52:57.254105",
     "status": "completed"
    },
    "tags": []
   },
   "outputs": [],
   "source": [
    "# save_numpy('weights.txt', model.get_weights())"
   ]
  },
  {
   "cell_type": "markdown",
   "id": "c9449e97",
   "metadata": {
    "id": "2xrwCHhE7cnl",
    "papermill": {
     "duration": 0.42662,
     "end_time": "2022-02-16T18:52:58.550041",
     "exception": false,
     "start_time": "2022-02-16T18:52:58.123421",
     "status": "completed"
    },
    "tags": []
   },
   "source": [
    "### Loading trained weights"
   ]
  },
  {
   "cell_type": "code",
   "execution_count": 10,
   "id": "35ef00c4",
   "metadata": {
    "execution": {
     "iopub.execute_input": "2022-02-16T18:52:59.409784Z",
     "iopub.status.busy": "2022-02-16T18:52:59.409172Z",
     "iopub.status.idle": "2022-02-16T18:52:59.412104Z",
     "shell.execute_reply": "2022-02-16T18:52:59.412652Z"
    },
    "id": "QxjZeMxc7cnm",
    "papermill": {
     "duration": 0.437177,
     "end_time": "2022-02-16T18:52:59.412817",
     "exception": false,
     "start_time": "2022-02-16T18:52:58.975640",
     "status": "completed"
    },
    "tags": []
   },
   "outputs": [],
   "source": [
    "# with open('weights.txt', 'r') as f:\n",
    "#     weights = json.load(f)\n",
    "#     model.set_weights(weights)\n"
   ]
  },
  {
   "cell_type": "markdown",
   "id": "3bbf5a68",
   "metadata": {
    "id": "tsoPlDkL7cnm",
    "papermill": {
     "duration": 0.429699,
     "end_time": "2022-02-16T18:53:00.271600",
     "exception": false,
     "start_time": "2022-02-16T18:52:59.841901",
     "status": "completed"
    },
    "tags": []
   },
   "source": [
    "<h1 id=\"testing\" style=\"color:white; background:black; border:1px dashed;\"> \n",
    "    <center>Testing\n",
    "        <a class=\"anchor-link\" href=\"#testing\" target=\"_self\">¶</a>\n",
    "    </center>\n",
    "</h1>"
   ]
  },
  {
   "cell_type": "code",
   "execution_count": 11,
   "id": "c82dca66",
   "metadata": {
    "execution": {
     "iopub.execute_input": "2022-02-16T18:53:01.128721Z",
     "iopub.status.busy": "2022-02-16T18:53:01.127749Z",
     "iopub.status.idle": "2022-02-16T18:53:11.958441Z",
     "shell.execute_reply": "2022-02-16T18:53:11.959255Z"
    },
    "id": "G8O_KO817cnm",
    "outputId": "8bc49777-d394-464e-eb42-11e52a9844d0",
    "papermill": {
     "duration": 11.264278,
     "end_time": "2022-02-16T18:53:11.959522",
     "exception": false,
     "start_time": "2022-02-16T18:53:00.695244",
     "status": "completed"
    },
    "tags": []
   },
   "outputs": [
    {
     "name": "stderr",
     "output_type": "stream",
     "text": [
      "100%|██████████| 157/157 [00:10<00:00, 14.54it/s]"
     ]
    },
    {
     "name": "stdout",
     "output_type": "stream",
     "text": [
      "Test\n",
      "loss:  1.3044919386842555\n",
      "              precision    recall  f1-score   support\n",
      "\n",
      "           0       0.54      0.58      0.56       493\n",
      "           1       0.77      0.59      0.67       640\n",
      "           2       0.34      0.44      0.38       376\n",
      "           3       0.40      0.40      0.40       491\n",
      "           4       0.47      0.55      0.51       453\n",
      "           5       0.36      0.53      0.43       327\n",
      "           6       0.57      0.66      0.61       438\n",
      "           7       0.64      0.49      0.55       639\n",
      "           8       0.74      0.56      0.64       659\n",
      "           9       0.57      0.58      0.58       484\n",
      "\n",
      "    accuracy                           0.54      5000\n",
      "   macro avg       0.54      0.54      0.53      5000\n",
      "weighted avg       0.57      0.54      0.55      5000\n",
      "\n"
     ]
    },
    {
     "name": "stderr",
     "output_type": "stream",
     "text": [
      "\n"
     ]
    }
   ],
   "source": [
    "y_pred, test_loss = model.evaluate(X_test, y_test)\n",
    "print('Test\\nloss: ', test_loss)\n",
    "print(\n",
    "    metrics.classification_report(reverse_one_hot(y_pred),\n",
    "                                  reverse_one_hot(y_test)))\n"
   ]
  },
  {
   "cell_type": "code",
   "execution_count": 12,
   "id": "df3ad8d3",
   "metadata": {
    "execution": {
     "iopub.execute_input": "2022-02-16T18:53:12.915419Z",
     "iopub.status.busy": "2022-02-16T18:53:12.914753Z",
     "iopub.status.idle": "2022-02-16T18:53:13.142080Z",
     "shell.execute_reply": "2022-02-16T18:53:13.141487Z"
    },
    "id": "wxw-ZsS97cnm",
    "outputId": "966634c6-9e5e-4b2c-8e1e-f7f18b8ecb11",
    "papermill": {
     "duration": 0.691414,
     "end_time": "2022-02-16T18:53:13.142242",
     "exception": false,
     "start_time": "2022-02-16T18:53:12.450828",
     "status": "completed"
    },
    "tags": []
   },
   "outputs": [
    {
     "name": "stdout",
     "output_type": "stream",
     "text": [
      "7\n"
     ]
    },
    {
     "name": "stderr",
     "output_type": "stream",
     "text": [
      "100%|██████████| 1/1 [00:00<00:00, 35.74it/s]"
     ]
    },
    {
     "name": "stdout",
     "output_type": "stream",
     "text": [
      "[[0.         0.00464075]\n",
      " [1.         0.01189643]\n",
      " [2.         0.12057809]\n",
      " [3.         0.19040539]\n",
      " [4.         0.34299715]\n",
      " [5.         0.11351593]\n",
      " [6.         0.09405317]\n",
      " [7.         0.07393958]\n",
      " [8.         0.03777213]\n",
      " [9.         0.01020138]]\n"
     ]
    },
    {
     "name": "stderr",
     "output_type": "stream",
     "text": [
      "\n"
     ]
    },
    {
     "data": {
      "image/png": "[encoded data removed]",
      "text/plain": [
       "<Figure size 432x288 with 1 Axes>"
      ]
     },
     "metadata": {
      "needs_background": "light"
     },
     "output_type": "display_data"
    }
   ],
   "source": [
    "rand_idx = np.random.choice(len(X_test))\n",
    "label = reverse_one_hot(y_test[rand_idx])\n",
    "show_image(X_test[rand_idx], label)\n",
    "batch = range(rand_idx, rand_idx + 1)\n",
    "y_hat = model.predict(X_test[batch])\n",
    "print_numpy_unscientific(np.array(list(enumerate(y_hat.squeeze()))))"
   ]
  }
 ],
 "metadata": {
  "kernelspec": {
   "display_name": "Python 3",
   "language": "python",
   "name": "python3"
  },
  "language_info": {
   "codemirror_mode": {
    "name": "ipython",
    "version": 3
   },
   "file_extension": ".py",
   "mimetype": "text/x-python",
   "name": "python",
   "nbconvert_exporter": "python",
   "pygments_lexer": "ipython3",
   "version": "3.7.12"
  },
  "papermill": {
   "default_parameters": {},
   "duration": 4736.531235,
   "end_time": "2022-02-16T18:53:14.512953",
   "environment_variables": {},
   "exception": null,
   "input_path": "__notebook__.ipynb",
   "output_path": "__notebook__.ipynb",
   "parameters": {},
   "start_time": "2022-02-16T17:34:17.981718",
   "version": "2.3.3"
  }
 },
 "nbformat": 4,
 "nbformat_minor": 5
}
